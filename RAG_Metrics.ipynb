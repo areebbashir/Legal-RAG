{
  "cells": [
    {
      "cell_type": "code",
      "execution_count": null,
      "metadata": {
        "id": "bmOdXoLLNLdl"
      },
      "outputs": [],
      "source": [
        "!pip install pdfplumber faiss-cpu"
      ]
    },
    {
      "cell_type": "code",
      "execution_count": null,
      "metadata": {
        "colab": {
          "base_uri": "https://localhost:8080/"
        },
        "id": "SMti76t_kyw4",
        "outputId": "a5f3bdcb-59b9-4ef0-edcd-9ca50344dcda"
      },
      "outputs": [
        {
          "name": "stdout",
          "output_type": "stream",
          "text": [
            "2025-01-14 02:10:21.828010: E external/local_xla/xla/stream_executor/cuda/cuda_fft.cc:485] Unable to register cuFFT factory: Attempting to register factory for plugin cuFFT when one has already been registered\n",
            "2025-01-14 02:10:21.852794: E external/local_xla/xla/stream_executor/cuda/cuda_dnn.cc:8454] Unable to register cuDNN factory: Attempting to register factory for plugin cuDNN when one has already been registered\n",
            "2025-01-14 02:10:21.860009: E external/local_xla/xla/stream_executor/cuda/cuda_blas.cc:1452] Unable to register cuBLAS factory: Attempting to register factory for plugin cuBLAS when one has already been registered\n",
            "2025-01-14 02:10:23.729494: W tensorflow/compiler/tf2tensorrt/utils/py_utils.cc:38] TF-TRT Warning: Could not find TensorRT\n"
          ]
        }
      ],
      "source": [
        "!python main.py \"dataset__0__5.pdf\""
      ]
    },
    {
      "cell_type": "code",
      "execution_count": 5,
      "metadata": {
        "id": "WaibXMCJymlx"
      },
      "outputs": [],
      "source": [
        "from new_preprocess_vectordb import extract_data2, chunk_text, create_vector_db, search_vector_db"
      ]
    },
    {
      "cell_type": "code",
      "execution_count": 6,
      "metadata": {
        "id": "kGMSIWiMB1Bl"
      },
      "outputs": [],
      "source": [
        "from openai import OpenAI\n",
        "openAI_key = \"your-openai-key\"\n",
        "client = OpenAI(api_key=openAI_key)"
      ]
    },
    {
      "cell_type": "code",
      "execution_count": 35,
      "metadata": {
        "id": "reTXEH_rB-W9"
      },
      "outputs": [],
      "source": [
        "def create_prompt(context, field):\n",
        "    if field == \"Effective Date\":\n",
        "      prompt_field = \"Effective Date or Start Date\"\n",
        "    elif field == \"Expiration Date\":\n",
        "      prompt_field = \"Expiration Date or End Date\"\n",
        "    else:\n",
        "      prompt_field = \"Companies or Organisations or Corporations\"\n",
        "    prompt = f\"\"\"\n",
        "    You are an expert contract analyst. Extract the {prompt_field} from the following contract text.\n",
        "    Contract Text:\n",
        "    {context}\n",
        "\n",
        "    Respond with ONLY and ONLY {prompt_field} with the format specified below and nothing else.\n",
        "    The output should contain only the given format. If the {prompt_field} is not found reply with N/A.\n",
        "    \"\"\"\n",
        "    if field == \"Expiration Date\":\n",
        "      prompt+='Some times Expiration Date or End Date may not be explicitly given but it can be written for e.g \"The contract expires 2 years from the effective date\", which would mean Expiration data is equal to Effective date plus 2 years which you would have to figure out.'\n",
        "    if prompt_field == \"Effective Date or Start Date\" or prompt_field == \"Expiration Date or End Date\":\n",
        "        prompt += \"Format: dd/mm/yyyy\"\n",
        "    elif prompt_field == \"Companies or Organisations or Corporations\":\n",
        "        prompt += 'Format:[\"Party 1\", \"Party 2\"]'\n",
        "    return prompt"
      ]
    },
    {
      "cell_type": "code",
      "execution_count": 40,
      "metadata": {
        "id": "0oil7cbbDAGw"
      },
      "outputs": [],
      "source": [
        "def get_llm_response(prompt):\n",
        "    response = client.chat.completions.create(\n",
        "        model=\"gpt-4-turbo\",\n",
        "        messages=[{\"role\": \"user\", \"content\": prompt}],\n",
        "    )\n",
        "    return response.choices[0].message.content"
      ]
    },
    {
      "cell_type": "code",
      "execution_count": 12,
      "metadata": {
        "id": "EDZIB9BYDAhu"
      },
      "outputs": [],
      "source": [
        "import json\n",
        "import os\n",
        "import re\n",
        "from openai import OpenAI\n",
        "\n",
        "\n",
        "def extract_fields(pdf_path):\n",
        "    llm_fields = {\"Effective Date\": None, \"Expiration Date\": None, \"Parties\": None}\n",
        "\n",
        "    data = extract_data2(\"/content/pdfs/\"+pdf_path)\n",
        "    chunks = chunk_text(data)\n",
        "    create_vector_db(chunks, \"/content/vectorDB/\" + pdf_path.split(\".\")[0])\n",
        "    db_fields = [\"Effective Date Start Date from\", \"Expire Date End Date to\", \"Company\"]\n",
        "    for db_field, llm_field in zip(db_fields, llm_fields.keys()):\n",
        "        best_response = \"N/A\"\n",
        "        retry = 0\n",
        "        while best_response ==\"N/A\":\n",
        "            print(f\"Searching for '{db_field}' in the document...\")\n",
        "            results = search_vector_db(\"/content/vectorDB/\"+ pdf_path.split(\".\")[0], db_field)\n",
        "            combined_context = \"\\n\".join([chunk[\"text\"] for chunk in results])\n",
        "            prompt = create_prompt(combined_context, llm_field)\n",
        "            response = get_llm_response(prompt)\n",
        "            print(response)\n",
        "            retry+=1\n",
        "            if retry == 5: break\n",
        "            if response != \"N/A\":\n",
        "                best_response = response\n",
        "                break\n",
        "\n",
        "        if best_response == \"N/A\":\n",
        "            best_response = \"-\"\n",
        "        llm_fields[llm_field] = {\"response\": best_response}\n",
        "    return llm_fields\n",
        "\n"
      ]
    },
    {
      "cell_type": "code",
      "execution_count": 10,
      "metadata": {
        "id": "0CkuNGTe_mDJ"
      },
      "outputs": [],
      "source": [
        "import os\n",
        "import time\n",
        "folder_path = \"/content/pdfs/\"\n",
        "\n",
        "def natural_key(f):\n",
        "    return [int(text) if text.isdigit() else text.lower()\n",
        "            for text in re.split(r'(\\d+)', f)]\n",
        "\n",
        "file_names = sorted(os.listdir(folder_path), key=natural_key)\n"
      ]
    },
    {
      "cell_type": "code",
      "execution_count": 41,
      "metadata": {
        "colab": {
          "base_uri": "https://localhost:8080/"
        },
        "id": "8NM_c1QmAGLB",
        "outputId": "cfdd988d-f204-48f3-f56d-beca38fb7f6d"
      },
      "outputs": [
        {
          "name": "stdout",
          "output_type": "stream",
          "text": [
            "Searching for 'Effective Date Start Date from' in the document...\n",
            "05/07/2024\n",
            "Searching for 'Expire Date End Date to' in the document...\n",
            "30/06/2025\n",
            "Searching for 'Company' in the document...\n",
            "[\"Borden & Remington Corp.\", \"Barnstable County\"]\n",
            "Time taken for dataset__0__2.pdf: 13.26 seconds\n",
            "Searching for 'Effective Date Start Date from' in the document...\n",
            "20/05/2024\n",
            "Searching for 'Expire Date End Date to' in the document...\n",
            "N/A\n",
            "Searching for 'Expire Date End Date to' in the document...\n",
            "20/05/2029\n",
            "Searching for 'Company' in the document...\n",
            "[\"City of Joplin, Missouri\", \"TAMKO Building Products LLC\"]\n",
            "Time taken for dataset__0__3.pdf: 6.21 seconds\n",
            "Searching for 'Effective Date Start Date from' in the document...\n",
            "01/03/2023\n",
            "Searching for 'Expire Date End Date to' in the document...\n",
            "31/01/2024\n",
            "Searching for 'Company' in the document...\n",
            "[\"Board of County Commissioners\", \"Fishbeck\"]\n",
            "Time taken for dataset__0__4.pdf: 10.04 seconds\n",
            "Searching for 'Effective Date Start Date from' in the document...\n",
            "01/07/2021\n",
            "Searching for 'Expire Date End Date to' in the document...\n",
            "30/06/2022\n",
            "Searching for 'Company' in the document...\n",
            "[\"City of Half Moon Bay\", \"Impec Group, Inc.\"]\n",
            "Time taken for dataset__0__5.pdf: 21.95 seconds\n",
            "Searching for 'Effective Date Start Date from' in the document...\n",
            "29/03/2024\n",
            "Searching for 'Expire Date End Date to' in the document...\n",
            "31/12/2024\n",
            "Searching for 'Company' in the document...\n",
            "[\"ManpowerGroup\", \"Client\"]\n",
            "Time taken for dataset__0__6.pdf: 11.90 seconds\n",
            "Searching for 'Effective Date Start Date from' in the document...\n",
            "19/05/2021\n",
            "Searching for 'Expire Date End Date to' in the document...\n",
            "31/03/2023\n",
            "Searching for 'Company' in the document...\n",
            "[\"Board of County Commissioners of Nassau County, Florida\", \"Government Services Group, Inc.\"]\n",
            "Time taken for dataset__0__7.pdf: 4.73 seconds\n",
            "Searching for 'Effective Date Start Date from' in the document...\n",
            "11/01/2022\n",
            "Searching for 'Expire Date End Date to' in the document...\n",
            "30/11/2025\n",
            "Searching for 'Company' in the document...\n",
            "[\"Hanover Research\", \"Texas A & M University College Station\"]\n",
            "Time taken for dataset__0__8.pdf: 6.64 seconds\n",
            "Searching for 'Effective Date Start Date from' in the document...\n",
            "01/11/2021\n",
            "Searching for 'Expire Date End Date to' in the document...\n",
            "31/10/2024\n",
            "Searching for 'Company' in the document...\n",
            "[\"Milestone Technologies, Inc.\", \"Judicial Council of California\"]\n",
            "Time taken for dataset__0__9.pdf: 4.97 seconds\n",
            "Searching for 'Effective Date Start Date from' in the document...\n",
            "24/01/2022\n",
            "Searching for 'Expire Date End Date to' in the document...\n",
            "23/01/2024\n",
            "Searching for 'Company' in the document...\n",
            "[\"PowerSchool Group LLC\", \"The Board of Trustees of Illinois State University\"]\n",
            "Time taken for dataset__0__10.pdf: 5.65 seconds\n",
            "Searching for 'Effective Date Start Date from' in the document...\n",
            "16/08/2010\n",
            "Searching for 'Expire Date End Date to' in the document...\n",
            "N/A\n",
            "Searching for 'Expire Date End Date to' in the document...\n",
            "3/13/2011\n",
            "Searching for 'Company' in the document...\n",
            "[\"ABC Technologies, Inc.\", \"ABC, Inc.\"]\n",
            "Time taken for dataset__1__1.pdf: 3.94 seconds\n",
            "Searching for 'Effective Date Start Date from' in the document...\n",
            "N/A\n",
            "Searching for 'Effective Date Start Date from' in the document...\n",
            "N/A\n",
            "Searching for 'Effective Date Start Date from' in the document...\n",
            "22/02/2013\n",
            "Searching for 'Expire Date End Date to' in the document...\n",
            "N/A\n",
            "Searching for 'Expire Date End Date to' in the document...\n",
            "N/A\n",
            "Searching for 'Expire Date End Date to' in the document...\n",
            "N/A\n",
            "Searching for 'Expire Date End Date to' in the document...\n",
            "N/A\n",
            "Searching for 'Expire Date End Date to' in the document...\n",
            "N/A\n",
            "Searching for 'Company' in the document...\n",
            "[\"MoneyRich Info Solutions Pvt Ltd\", \"ABC Technologies Private Limited\"]\n",
            "Time taken for dataset__1__2.pdf: 8.88 seconds\n",
            "Searching for 'Effective Date Start Date from' in the document...\n",
            "12/05/2012\n",
            "Searching for 'Expire Date End Date to' in the document...\n",
            "11/05/2013\n",
            "Searching for 'Company' in the document...\n",
            "[\"ABC Technologies Pvt. Ltd.\", \"FRW Inc.\"]\n",
            "Time taken for dataset__1__3.pdf: 3.82 seconds\n",
            "Searching for 'Effective Date Start Date from' in the document...\n",
            "10/10/2012\n",
            "Searching for 'Expire Date End Date to' in the document...\n",
            "09/10/2014\n",
            "Searching for 'Company' in the document...\n",
            "[\"ABC, INC\", \"DEF Technology USA Inc.\"]\n",
            "Time taken for dataset__1__5.pdf: 3.96 seconds\n",
            "Searching for 'Effective Date Start Date from' in the document...\n",
            "01/03/2013\n",
            "Searching for 'Expire Date End Date to' in the document...\n",
            "01/06/2014\n",
            "Searching for 'Company' in the document...\n",
            "[\"ABC Technologies Private Limited\", \"Company with Spaces Private Limited\"]\n",
            "Time taken for dataset__1__6.pdf: 5.16 seconds\n",
            "Searching for 'Effective Date Start Date from' in the document...\n",
            "N/A\n",
            "Searching for 'Effective Date Start Date from' in the document...\n",
            "N/A\n",
            "Searching for 'Effective Date Start Date from' in the document...\n",
            "N/A\n",
            "Searching for 'Effective Date Start Date from' in the document...\n",
            "N/A\n",
            "Searching for 'Effective Date Start Date from' in the document...\n",
            "N/A\n",
            "Searching for 'Expire Date End Date to' in the document...\n",
            "N/A\n",
            "Searching for 'Expire Date End Date to' in the document...\n",
            "N/A\n",
            "Searching for 'Expire Date End Date to' in the document...\n",
            "N/A\n",
            "Searching for 'Expire Date End Date to' in the document...\n",
            "N/A\n",
            "Searching for 'Expire Date End Date to' in the document...\n",
            "N/A\n",
            "Searching for 'Company' in the document...\n",
            "[\"ABC Tech pvt\", \"HHH Group Inc.\", \"ABC Technologies Private Limited\", \"HBCR\"]\n",
            "Time taken for dataset__1__7.pdf: 10.71 seconds\n",
            "Searching for 'Effective Date Start Date from' in the document...\n",
            "17/05/2012\n",
            "Searching for 'Expire Date End Date to' in the document...\n",
            "18/05/2013\n",
            "Searching for 'Company' in the document...\n",
            "[\"ABC TECHNOLOGIES PRIVATE LIMITED\", \"DEF TECHNOLOGY CORPORATION\"]\n",
            "Time taken for dataset__1__8.pdf: 6.68 seconds\n",
            "Searching for 'Effective Date Start Date from' in the document...\n",
            "10/01/2020\n",
            "Searching for 'Expire Date End Date to' in the document...\n",
            "12/06/2023\n",
            "Searching for 'Company' in the document...\n",
            "[\"OpenGov, Inc.\", \"Township of Colerain, OH\"]\n",
            "Time taken for dataset__2__File 9.pdf: 5.28 seconds\n",
            "Searching for 'Effective Date Start Date from' in the document...\n",
            "07/01/2018\n",
            "Searching for 'Expire Date End Date to' in the document...\n",
            "06/30/2022\n",
            "Searching for 'Company' in the document...\n",
            "[\"State of Minnesota\", \"Wright County Sheriff’s Department\"]\n",
            "Time taken for dataset__2__File 17.pdf: 38.97 seconds\n",
            "Searching for 'Effective Date Start Date from' in the document...\n",
            "08/04/2022\n",
            "Searching for 'Expire Date End Date to' in the document...\n",
            "N/A\n",
            "Searching for 'Expire Date End Date to' in the document...\n",
            "08/04/2023\n",
            "Searching for 'Company' in the document...\n",
            "[\"Aransas Pass Police Dept\", \"Invictus Apps, Inc.\"]\n",
            "Time taken for dataset__2__File 21.pdf: 10.98 seconds\n",
            "Searching for 'Effective Date Start Date from' in the document...\n",
            "19/08/2022\n",
            "Searching for 'Expire Date End Date to' in the document...\n",
            "18/08/2023\n",
            "Searching for 'Company' in the document...\n",
            "[\"BlackBerry Co.\", \"Human Services Agency\"]\n",
            "Time taken for dataset__2__File 22.pdf: 9.65 seconds\n",
            "Searching for 'Effective Date Start Date from' in the document...\n",
            "03/01/2015\n",
            "Searching for 'Expire Date End Date to' in the document...\n",
            "29/02/2016\n",
            "Searching for 'Company' in the document...\n",
            "[\"WA STATE DEPT OF LICENSING\", \"City of Bellevue\"]\n",
            "Time taken for dataset__2__File 24.pdf: 19.96 seconds\n",
            "Searching for 'Effective Date Start Date from' in the document...\n",
            "N/A\n",
            "Searching for 'Effective Date Start Date from' in the document...\n",
            "N/A\n",
            "Searching for 'Effective Date Start Date from' in the document...\n",
            "N/A\n",
            "Searching for 'Effective Date Start Date from' in the document...\n",
            "N/A\n",
            "Searching for 'Effective Date Start Date from' in the document...\n",
            "N/A\n",
            "Searching for 'Expire Date End Date to' in the document...\n",
            "N/A\n",
            "Searching for 'Expire Date End Date to' in the document...\n",
            "N/A\n",
            "Searching for 'Expire Date End Date to' in the document...\n",
            "N/A\n",
            "Searching for 'Expire Date End Date to' in the document...\n",
            "N/A\n",
            "Searching for 'Expire Date End Date to' in the document...\n",
            "N/A\n",
            "Searching for 'Company' in the document...\n",
            "[\"Hydration Labs, Inc.\", \"City of Irvine\", \"RUTAN & TUCKER, LLP\"]\n",
            "Time taken for dataset__2__File 27.pdf: 12.40 seconds\n",
            "Searching for 'Effective Date Start Date from' in the document...\n",
            "N/A\n",
            "Searching for 'Effective Date Start Date from' in the document...\n",
            "N/A\n",
            "Searching for 'Effective Date Start Date from' in the document...\n",
            "N/A\n",
            "Searching for 'Effective Date Start Date from' in the document...\n",
            "13/12/2021\n",
            "Searching for 'Expire Date End Date to' in the document...\n",
            "N/A\n",
            "Searching for 'Expire Date End Date to' in the document...\n",
            "N/A\n",
            "Searching for 'Expire Date End Date to' in the document...\n",
            "N/A\n",
            "Searching for 'Expire Date End Date to' in the document...\n",
            "N/A\n",
            "Searching for 'Expire Date End Date to' in the document...\n",
            "N/A\n",
            "Searching for 'Company' in the document...\n",
            "[\"Podium Corporation, Inc.\", \"Santaquin City\"]\n",
            "Time taken for dataset__2__File 80.pdf: 15.47 seconds\n",
            "Searching for 'Effective Date Start Date from' in the document...\n",
            "09/01/2023\n",
            "Searching for 'Expire Date End Date to' in the document...\n",
            "06/03/2024\n",
            "Searching for 'Company' in the document...\n",
            "[\"Carahsoft OBO Maine Office of Information Technology\", \"Hupp Information Technologies\"]\n",
            "Time taken for dataset__2__File 86.pdf: 15.92 seconds\n",
            "Searching for 'Effective Date Start Date from' in the document...\n",
            "07/12/2021\n",
            "Searching for 'Expire Date End Date to' in the document...\n",
            "06/12/2022\n",
            "Searching for 'Company' in the document...\n",
            "[\"Alturas International Academy\", \"SchoolMint, Inc.\"]\n",
            "Time taken for dataset__2__File 90.pdf: 9.53 seconds\n",
            "\n",
            "Average time taken per document: 10.67 seconds\n"
          ]
        }
      ],
      "source": [
        "import time\n",
        "json_file = []\n",
        "time_taken_per_document = []\n",
        "count = 0\n",
        "for pdf_name in file_names:\n",
        "    # print(pdf_name)\n",
        "    start_time = time.time()  # Record the start time\n",
        "    extracted_data = extract_fields(pdf_name)  # Extract fields\n",
        "    end_time = time.time()  # Record the end time\n",
        "    time_taken = end_time - start_time\n",
        "    time_taken_per_document.append(time_taken)\n",
        "\n",
        "    json_file.append({pdf_name: extracted_data})\n",
        "    print(f\"Time taken for {pdf_name}: {time_taken:.2f} seconds\")\n",
        "    # count+=1\n",
        "    # if count ==5 :break\n",
        "average_time = sum(time_taken_per_document) / len(time_taken_per_document)\n",
        "print(f\"\\nAverage time taken per document: {average_time:.2f} seconds\")\n",
        "\n",
        "# Optional: Save the results to a JSON file\n",
        "output_json = {}\n",
        "for item in json_file:\n",
        "    output_json.update(item)  # Merge each dictionary into the main one\n",
        "\n",
        "# Print the result\n",
        "with open(\"data_pred.json\", \"w\") as outfile:\n",
        "    json.dump(output_json, outfile, indent=4)"
      ]
    },
    {
      "cell_type": "code",
      "execution_count": 42,
      "metadata": {
        "id": "ApQT7kr7Puj4"
      },
      "outputs": [],
      "source": [
        "with open(\"/content/data_pred.json\", \"r\") as f:\n",
        "        pred = json.load(f)\n",
        "\n",
        "with open(\"/content/master.json\", \"r\") as f:\n",
        "        gt = json.load(f)"
      ]
    },
    {
      "cell_type": "code",
      "execution_count": 11,
      "metadata": {
        "id": "5j4b56fr0Jd4"
      },
      "outputs": [],
      "source": [
        "import ast\n",
        "import nest_asyncio\n",
        "nest_asyncio.apply()"
      ]
    },
    {
      "cell_type": "code",
      "execution_count": 43,
      "metadata": {
        "colab": {
          "base_uri": "https://localhost:8080/"
        },
        "id": "4kiEjybFQ9wn",
        "outputId": "86635b7d-77f6-4a27-a036-f6f19770ab46"
      },
      "outputs": [
        {
          "name": "stdout",
          "output_type": "stream",
          "text": [
            "gt_ans: 01/07/2024 | pred_value = 05/07/2024\n",
            "gt_ans: 30/06/2025 | pred_value = 30/06/2025\n",
            "gt_ans: 20/05/2024 | pred_value = 20/05/2024\n",
            "gt_ans: 30/06/2029 | pred_value = 20/05/2029\n",
            "gt_ans: 01/03/2023 | pred_value = 01/03/2023\n",
            "gt_ans: 31/01/2024 | pred_value = 31/01/2024\n",
            "gt_ans: 01/07/2021 | pred_value = 01/07/2021\n",
            "gt_ans: 30/06/2022 | pred_value = 30/06/2022\n",
            "gt_ans: 29/03/2024 | pred_value = 29/03/2024\n",
            "gt_ans: 31/12/2024 | pred_value = 31/12/2024\n",
            "gt_ans: 28/03/2022 | pred_value = 19/05/2021\n",
            "gt_ans: 31/03/2023 | pred_value = 31/03/2023\n",
            "gt_ans: 01/12/2022 | pred_value = 11/01/2022\n",
            "gt_ans: 30/11/2025 | pred_value = 30/11/2025\n",
            "gt_ans: 01/11/2021 | pred_value = 01/11/2021\n",
            "gt_ans: 31/10/2024 | pred_value = 31/10/2024\n",
            "gt_ans: 24/01/2022 | pred_value = 24/01/2022\n",
            "gt_ans: 23/01/2024 | pred_value = 23/01/2024\n",
            "gt_ans: 16/08/2010 | pred_value = 16/08/2010\n",
            "gt_ans: - | pred_value = 3/13/2011\n",
            "gt_ans: 22/02/2013 | pred_value = 22/02/2013\n",
            "gt_ans: - | pred_value = -\n",
            "gt_ans: 12/05/2012 | pred_value = 12/05/2012\n",
            "gt_ans: 11/05/2013 | pred_value = 11/05/2013\n",
            "gt_ans: 10/10/2012 | pred_value = 10/10/2012\n",
            "gt_ans: 10/10/2014 | pred_value = 09/10/2014\n",
            "gt_ans: 01/03/2013 | pred_value = 01/03/2013\n",
            "gt_ans: 01/06/2014 | pred_value = 01/06/2014\n",
            "gt_ans: 06/09/2011 | pred_value = -\n",
            "gt_ans: 06/10/2011 | pred_value = -\n",
            "gt_ans: 18/05/2012 | pred_value = 17/05/2012\n",
            "gt_ans: 18/05/2013 | pred_value = 18/05/2013\n",
            "gt_ans: 01/10/2020 | pred_value = 10/01/2020\n",
            "gt_ans: 12/06/2023 | pred_value = 12/06/2023\n",
            "gt_ans: 07/01/2018 | pred_value = 07/01/2018\n",
            "gt_ans: 30/06/2022 | pred_value = 06/30/2022\n",
            "gt_ans: 08/04/2022 | pred_value = 08/04/2022\n",
            "gt_ans: 08/04/2023 | pred_value = 08/04/2023\n",
            "gt_ans: 01/08/2022 | pred_value = 19/08/2022\n",
            "gt_ans: 31/07/2025 | pred_value = 18/08/2023\n",
            "gt_ans: 03/01/2015 | pred_value = 03/01/2015\n",
            "gt_ans: 29/02/2016 | pred_value = 29/02/2016\n",
            "gt_ans: - | pred_value = -\n",
            "gt_ans: 11/11/2023 | pred_value = -\n",
            "gt_ans: 13/12/2021 | pred_value = 13/12/2021\n",
            "gt_ans: 13/12/2022 | pred_value = -\n",
            "gt_ans: 09/01/2023 | pred_value = 09/01/2023\n",
            "gt_ans: 06/03/2024 | pred_value = 06/03/2024\n",
            "gt_ans: 07/12/2021 | pred_value = 07/12/2021\n",
            "gt_ans: 06/12/2022 | pred_value = 06/12/2022\n"
          ]
        }
      ],
      "source": [
        "total_count = 0\n",
        "exact_matches = 0\n",
        "for pdf_id, gt_data in gt.items():\n",
        "  # print(pdf_id)\n",
        "  pred_data = pred.get(pdf_id+\".pdf\", {})\n",
        "  # print(pred_data)\n",
        "  for field, gt_value in gt_data.items():\n",
        "      # print(field, gt_value)\n",
        "      if field == \"rects\" or field == \"Parties\": continue\n",
        "      if field==\"Effective Date\":\n",
        "        pred_value = pred_data.get(\"Effective Date\", \"\")\n",
        "\n",
        "      elif field==\"Expiration Date\":\n",
        "        pred_value = pred_data.get(\"Expiration Date\", \"\")\n",
        "\n",
        "\n",
        "      gt_ans = gt_value[\"response\"]\n",
        "      print(f\"\"\"gt_ans: {gt_ans} | pred_value = {pred_value[\"response\"]}\"\"\")\n",
        "      total_count += 1\n",
        "      if gt_ans == pred_value[\"response\"] or (gt_ans == '-' and pred_value[\"response\"]==\"The contract text does not provide a specific Expiration Date or End Date.\"):\n",
        "          exact_matches += 1"
      ]
    },
    {
      "cell_type": "code",
      "execution_count": 44,
      "metadata": {
        "colab": {
          "base_uri": "https://localhost:8080/"
        },
        "id": "-jMNRXGflZup",
        "outputId": "8b81572f-3af3-46c4-a237-c1201c7d10a2"
      },
      "outputs": [
        {
          "data": {
            "text/plain": [
              "35"
            ]
          },
          "execution_count": 44,
          "metadata": {},
          "output_type": "execute_result"
        }
      ],
      "source": [
        "exact_matches"
      ]
    },
    {
      "cell_type": "code",
      "execution_count": 53,
      "metadata": {
        "colab": {
          "base_uri": "https://localhost:8080/"
        },
        "id": "ruw_P-YokkOn",
        "outputId": "64b56a75-8150-42ea-d912-09e8b15d1b49"
      },
      "outputs": [
        {
          "data": {
            "text/plain": [
              "0.7"
            ]
          },
          "execution_count": 53,
          "metadata": {},
          "output_type": "execute_result"
        }
      ],
      "source": [
        "exact_matches/50"
      ]
    },
    {
      "cell_type": "code",
      "execution_count": 25,
      "metadata": {
        "id": "mDSviT9-omhR"
      },
      "outputs": [],
      "source": [
        "def evaluate_with_llm(input, original_text, generated_text, criteria, evaluation_steps):\n",
        "    \"\"\"\n",
        "    Uses an LLM to evaluate the correctness of a generated text based on given criteria and steps.\n",
        "\n",
        "    Args:\n",
        "        input (str): The task input prompt.\n",
        "        original_text (str): The original expected text.\n",
        "        generated_text (str): The actual generated text to be evaluated.\n",
        "        criteria (dict): Dictionary containing the evaluation criteria.\n",
        "        evaluation_steps (list): List of evaluation steps for scoring.\n",
        "\n",
        "    Returns:\n",
        "        dict: Evaluation result with a score and justification.\n",
        "    \"\"\"\n",
        "    # Construct the evaluation prompt\n",
        "    prompt = f\"\"\"\n",
        "You are an expert evaluator tasked with scoring the correctness of a generated text.\n",
        "Follow these instructions:\n",
        "\n",
        "### Input Task\n",
        "{input}\n",
        "\n",
        "### Criteria\n",
        "{criteria['correctness']}\n",
        "\n",
        "### Evaluation Steps\n",
        "1. {evaluation_steps[0]}\n",
        "2. {evaluation_steps[1]}\n",
        "3. {evaluation_steps[2]}\n",
        "\n",
        "### Texts to Evaluate\n",
        "Original Text: \"{original_text}\"\n",
        "Generated Text: \"{generated_text}\"\n",
        "\n",
        "### Task\n",
        "1. Assign a score between 0 and 1, where 1 means perfect correctness and 0 means completely incorrect. You can go upto 5 decimal places for increased precision\n",
        "2. Provide a detailed justification for the score based on the evaluation steps.\n",
        "\n",
        "Respond with a JSON object like this:\n",
        "{{\n",
        "    \"score\": <score>,\n",
        "    \"justification\": \"<detailed justification>\"\n",
        "}}\n",
        "    \"\"\"\n",
        "\n",
        "    # Use OpenAI API to get the evaluation result\n",
        "    response = client.chat.completions.create(\n",
        "        model=\"gpt-4\",  # Choose the appropriate model\n",
        "        messages=[\n",
        "            {\"role\": \"system\", \"content\": \"You are an expert evaluator for text-based tasks.\"},\n",
        "            {\"role\": \"user\", \"content\": prompt},\n",
        "        ],\n",
        "        temperature=0  # Set to 0 for deterministic outputs\n",
        "    )\n",
        "\n",
        "    # Parse the response\n",
        "    result = response.choices[0].message.content\n",
        "    return result\n"
      ]
    },
    {
      "cell_type": "code",
      "execution_count": 45,
      "metadata": {
        "colab": {
          "base_uri": "https://localhost:8080/"
        },
        "id": "HHxa6dyiHVYH",
        "outputId": "7b84009c-c716-4fec-85d0-5fec3ef81f81"
      },
      "outputs": [
        {
          "name": "stdout",
          "output_type": "stream",
          "text": [
            "['Barnstable County', 'Borden & Remington Corporation']\n",
            "[\"Borden & Remington Corp.\", \"Barnstable County\"]\n",
            "Borden & Remington Corp. and Barnstable County\n",
            "['City Of Joplin, Missouri', 'Tamko Building Products Limited Liability Company']\n",
            "[\"City of Joplin, Missouri\", \"TAMKO Building Products LLC\"]\n",
            "City of Joplin, Missouri and TAMKO Building Products LLC\n",
            "['Board Of County Commissioners, Lucas County, Ohio', 'Fishbeck']\n",
            "[\"Board of County Commissioners\", \"Fishbeck\"]\n",
            "Board of County Commissioners and Fishbeck\n",
            "['City Of Half Moon Bay', 'Impec Group Corporation']\n",
            "[\"City of Half Moon Bay\", \"Impec Group, Inc.\"]\n",
            "City of Half Moon Bay and Impec Group, Inc.\n",
            "['Manpowergroup Us Corporation']\n",
            "[\"ManpowerGroup\", \"Client\"]\n",
            "ManpowerGroup and Client\n",
            "['Board Of County Commissioners Of Nassau County, Florida', 'Government Services Group Corporation']\n",
            "[\"Board of County Commissioners of Nassau County, Florida\", \"Government Services Group, Inc.\"]\n",
            "Board of County Commissioners of Nassau County, Florida and Government Services Group, Inc.\n",
            "['The Hanover Research Council Limited Liability Company', 'Texas A & M University College Station']\n",
            "[\"Hanover Research\", \"Texas A & M University College Station\"]\n",
            "Hanover Research and Texas A & M University College Station\n",
            "['Milestone Technologies Corporation', 'Judicial Council Of California']\n",
            "[\"Milestone Technologies, Inc.\", \"Judicial Council of California\"]\n",
            "Milestone Technologies, Inc. and Judicial Council of California\n",
            "['Powerschool Group Limited Liability Company', 'The Board Of Trustees Of Illinois State University']\n",
            "[\"PowerSchool Group LLC\", \"The Board of Trustees of Illinois State University\"]\n",
            "PowerSchool Group LLC and The Board of Trustees of Illinois State University\n",
            "['Abc Corporation', 'Abc Technologies Corporation']\n",
            "[\"ABC Technologies, Inc.\", \"ABC, Inc.\"]\n",
            "ABC Technologies, Inc. and ABC, Inc.\n",
            "['Abc Technologies Private Limited Company', 'Moneyrich Info Solutions Private Limited Company']\n",
            "[\"MoneyRich Info Solutions Pvt Ltd\", \"ABC Technologies Private Limited\"]\n",
            "MoneyRich Info Solutions Pvt Ltd and ABC Technologies Private Limited\n",
            "['Abc Technologies Private Limited Company', 'Frw Corporation']\n",
            "[\"ABC Technologies Pvt. Ltd.\", \"FRW Inc.\"]\n",
            "ABC Technologies Pvt. Ltd. and FRW Inc.\n",
            "['Def Technology Usa Corporation', 'Abc Corporation']\n",
            "[\"ABC, INC\", \"DEF Technology USA Inc.\"]\n",
            "ABC, INC and DEF Technology USA Inc.\n",
            "['Space Company (Company With Spaces Private Limited Company', 'Abc Technologies Private Limited Company']\n",
            "[\"ABC Technologies Private Limited\", \"Company with Spaces Private Limited\"]\n",
            "ABC Technologies Private Limited and Company with Spaces Private Limited\n",
            "['Abc Technologies Private Limited Company', 'Hhh Group Corporation']\n",
            "[\"ABC Tech pvt\", \"HHH Group Inc.\", \"ABC Technologies Private Limited\", \"HBCR\"]\n",
            "ABC Tech pvt and HHH Group Inc. and ABC Technologies Private Limited and HBCR\n",
            "['Def Technology Corporation', 'Abc Technologies Private Limited Company']\n",
            "[\"ABC TECHNOLOGIES PRIVATE LIMITED\", \"DEF TECHNOLOGY CORPORATION\"]\n",
            "ABC TECHNOLOGIES PRIVATE LIMITED and DEF TECHNOLOGY CORPORATION\n",
            "['Township Of Colerain, Oh ']\n",
            "[\"OpenGov, Inc.\", \"Township of Colerain, OH\"]\n",
            "OpenGov, Inc. and Township of Colerain, OH\n",
            "['Moy, Wer ']\n",
            "[\"State of Minnesota\", \"Wright County Sheriff’s Department\"]\n",
            "State of Minnesota and Wright County Sheriff’s Department\n",
            "['Aransas Pass Police Dept. ']\n",
            "[\"Aransas Pass Police Dept\", \"Invictus Apps, Inc.\"]\n",
            "Aransas Pass Police Dept and Invictus Apps, Inc.\n",
            "['Blackberry Corporation']\n",
            "[\"BlackBerry Co.\", \"Human Services Agency\"]\n",
            "BlackBerry Co. and Human Services Agency\n",
            "['City Of Bellev ']\n",
            "[\"WA STATE DEPT OF LICENSING\", \"City of Bellevue\"]\n",
            "WA STATE DEPT OF LICENSING and City of Bellevue\n",
            "['City Of Irvine ']\n",
            "[\"Hydration Labs, Inc.\", \"City of Irvine\", \"RUTAN & TUCKER, LLP\"]\n",
            "Hydration Labs, Inc. and City of Irvine and RUTAN & TUCKER, LLP\n",
            "['Podium Corporation']\n",
            "[\"Podium Corporation, Inc.\", \"Santaquin City\"]\n",
            "Podium Corporation, Inc. and Santaquin City\n",
            "['Joseph Zrioka ']\n",
            "[\"Carahsoft OBO Maine Office of Information Technology\", \"Hupp Information Technologies\"]\n",
            "Carahsoft OBO Maine Office of Information Technology and Hupp Information Technologies\n",
            "['Alturas International Academy ']\n",
            "[\"Alturas International Academy\", \"SchoolMint, Inc.\"]\n",
            "Alturas International Academy and SchoolMint, Inc.\n"
          ]
        }
      ],
      "source": [
        "import ast\n",
        "evaluation_results = []\n",
        "for pdf_id, gt_data in gt.items():\n",
        "        # Extract the ground truth and predicted parties\n",
        "        gt_parties = gt_data.get(\"Parties\", [])['response']\n",
        "        print(gt_parties)\n",
        "        pred_parties = pred.get(pdf_id+\".pdf\", {}).get(\"Parties\", [])['response']\n",
        "        print(pred_parties)\n",
        "\n",
        "        input_prompt = \"What is ONLY the name of the party on the legal contract\"\n",
        "\n",
        "        original_text = \" and \".join(parties for parties in gt_parties)\n",
        "        generated_text = \" and \".join(parties for parties in ast.literal_eval(pred_parties))\n",
        "        print(generated_text)\n",
        "        criteria = {\n",
        "            \"correctness\": \"Determine whether the actual output contains the same entities as the expected output.\"\n",
        "        }\n",
        "\n",
        "        evaluation_steps = [\n",
        "            \"Check whether the facts in 'actual output' has the same party as in the 'expected output'.\",\n",
        "            \"If there is an omission of address of the company or short form of the company is written, it is OK.\",\n",
        "            \"Penalize heavily if the 'actual output' is completely not the same as 'expected output'.\"\n",
        "        ]\n",
        "\n",
        "        evaluation_result = json.loads(evaluate_with_llm(input_prompt, original_text, generated_text, criteria, evaluation_steps))\n",
        "\n",
        "        evaluation_results.append({\n",
        "            \"pdf_id\": pdf_id,\n",
        "            \"ground_truth_parties\": gt_parties,\n",
        "            \"extracted_parties\": pred_parties,\n",
        "            \"G-Eval Score\": evaluation_result[\"score\"],\n",
        "            \"Justification\": evaluation_result[\"justification\"]\n",
        "\n",
        "        })"
      ]
    },
    {
      "cell_type": "code",
      "execution_count": 46,
      "metadata": {
        "id": "SxvH3A4bJtIn"
      },
      "outputs": [],
      "source": [
        "total_score = 0\n",
        "for result in evaluation_results:\n",
        "  total_score += result[\"G-Eval Score\"]"
      ]
    },
    {
      "cell_type": "code",
      "execution_count": 47,
      "metadata": {
        "colab": {
          "base_uri": "https://localhost:8080/"
        },
        "id": "x89e2bEwKmHf",
        "outputId": "e90ddf1d-7c01-46a7-d920-f6bb00ad3c41"
      },
      "outputs": [
        {
          "data": {
            "text/plain": [
              "0.69"
            ]
          },
          "execution_count": 47,
          "metadata": {},
          "output_type": "execute_result"
        }
      ],
      "source": [
        "total_score/25"
      ]
    },
    {
      "cell_type": "code",
      "execution_count": null,
      "metadata": {
        "id": "SJAdl7cOM3If"
      },
      "outputs": [],
      "source": []
    }
  ],
  "metadata": {
    "colab": {
      "provenance": []
    },
    "kernelspec": {
      "display_name": "Python 3",
      "name": "python3"
    },
    "language_info": {
      "name": "python"
    }
  },
  "nbformat": 4,
  "nbformat_minor": 0
}
